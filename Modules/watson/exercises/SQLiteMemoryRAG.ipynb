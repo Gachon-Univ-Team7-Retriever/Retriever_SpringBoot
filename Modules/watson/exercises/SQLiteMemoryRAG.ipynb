{
 "cells": [
  {
   "cell_type": "code",
   "id": "initial_id",
   "metadata": {
    "collapsed": true,
    "ExecuteTime": {
     "end_time": "2025-02-17T02:43:30.271328Z",
     "start_time": "2025-02-17T02:43:30.244807Z"
    }
   },
   "source": [
    "# API KEY를 환경변수로 관리하기 위한 설정 파일\n",
    "from dotenv import load_dotenv\n",
    "\n",
    "# API KEY 정보로드\n",
    "load_dotenv()\n"
   ],
   "outputs": [
    {
     "data": {
      "text/plain": [
       "True"
      ]
     },
     "execution_count": 1,
     "metadata": {},
     "output_type": "execute_result"
    }
   ],
   "execution_count": 1
  },
  {
   "metadata": {
    "ExecuteTime": {
     "end_time": "2025-02-17T02:43:30.301754Z",
     "start_time": "2025-02-17T02:43:30.287782Z"
    }
   },
   "cell_type": "code",
   "source": [
    "# LangSmith 추적을 설정합니다. https://smith.langchain.com\n",
    "# !pip install langchain-teddynote\n",
    "from langchain_teddynote import logging\n",
    "\n",
    "# 프로젝트 이름을 입력합니다.\n",
    "logging.langsmith(\"CH05-Memory\")\n"
   ],
   "id": "f666968f92408af",
   "outputs": [
    {
     "name": "stdout",
     "output_type": "stream",
     "text": [
      "LangSmith 추적을 시작합니다.\n",
      "[프로젝트명]\n",
      "CH05-Memory\n"
     ]
    }
   ],
   "execution_count": 2
  },
  {
   "metadata": {
    "ExecuteTime": {
     "end_time": "2025-02-17T02:43:35.619251Z",
     "start_time": "2025-02-17T02:43:30.595854Z"
    }
   },
   "cell_type": "code",
   "source": [
    "from langchain_community.vectorstores import FAISS\n",
    "from langchain_text_splitters import RecursiveCharacterTextSplitter\n",
    "from langchain_openai import ChatOpenAI, OpenAIEmbeddings\n",
    "# 단계 1: 문서 로드(Load Documents)\n",
    "from langchain.document_loaders import MongodbLoader\n",
    "from server.db import DB\n",
    "from server.db import get_mongo_connection_string\n",
    "\n",
    "channel_id = 1890652954\n",
    "\n",
    "loader = MongodbLoader(\n",
    "    connection_string=get_mongo_connection_string(),\n",
    "    db_name=DB.NAME,\n",
    "    collection_name=DB.COLLECTION.CHANNEL.DATA,\n",
    "    filter_criteria={\"channelId\": channel_id}, # 데이터베이스에서 조회할 기준 (쿼리)\n",
    "    field_names=(\"text\",),\n",
    "    metadata_names=(\"id\", \"timestamp\", \"channelId\", \"views\", \"url\"), # 메타데이터로 지정할 필드 목록\n",
    ")\n",
    "\n",
    "import nest_asyncio\n",
    "nest_asyncio.apply()  # Jupyter Notebook에서 asyncio 실행 문제 해결\n",
    "\n",
    "docs = loader.load()\n",
    "\n",
    "# 단계 2: 문서 분할(Split Documents)\n",
    "text_splitter = RecursiveCharacterTextSplitter(chunk_size=1000, chunk_overlap=50)\n",
    "splitted_documents = text_splitter.split_documents(docs)\n",
    "\n",
    "# 단계 3: 임베딩(Embedding) 생성\n",
    "embedding = OpenAIEmbeddings()\n",
    "\n",
    "# 단계 4: DB 생성(Create DB) 및 저장\n",
    "# 벡터스토어를 생성한다.\n",
    "vectorstore = FAISS.from_documents(documents=splitted_documents, embedding=embedding)\n",
    "\n",
    "# 단계 5: 검색기(Retriever) 생성\n",
    "# 문서에 포함되어 있는 정보를 검색하고 생성한다.\n",
    "retriever = vectorstore.as_retriever(search_kwargs={\"k\": 6})"
   ],
   "id": "f8a1e7b678b1be66",
   "outputs": [],
   "execution_count": 3
  },
  {
   "metadata": {
    "ExecuteTime": {
     "end_time": "2025-02-17T02:56:49.743373Z",
     "start_time": "2025-02-17T02:56:49.700165Z"
    }
   },
   "cell_type": "code",
   "source": [
    "from operator import itemgetter\n",
    "from langchain_core.runnables import RunnablePassthrough\n",
    "from langchain_core.prompts import ChatPromptTemplate, MessagesPlaceholder, PromptTemplate\n",
    "from langchain_community.chat_message_histories import ChatMessageHistory\n",
    "from langchain_core.chat_history import BaseChatMessageHistory\n",
    "from langchain_core.runnables.history import RunnableWithMessageHistory\n",
    "from langchain_openai import ChatOpenAI\n",
    "from langchain_core.output_parsers import StrOutputParser\n",
    "\n",
    "\n",
    "# 프롬프트 정의\n",
    "prompt = PromptTemplate.from_template(\n",
    "    \"\"\"You are an assistant responding to inquiries from an investigator trying to investigate a drug-selling channel. \n",
    "Below is the chat data (context) collected from a Telegram channel where drugs are sold, along with our previous Q&A Chat history. Based on this context chat data and previous chat history, answer questions about the transaction details of the channel.\n",
    "If you don't know the answer, just say that you don't know.\n",
    "Answer in Korean.\n",
    "\n",
    "#Context: \n",
    "{context} \n",
    "\n",
    "#Our Previous Chat History:\n",
    "{chat_history}\n",
    "\n",
    "#Question: \n",
    "{question} \n",
    "\n",
    "#Answer:\"\"\")\n",
    "\n",
    "# llm 생성\n",
    "llm = ChatOpenAI(model_name=\"gpt-4o\")\n",
    "\n",
    "# 일반 Chain 생성\n",
    "chain = (\n",
    "    {\n",
    "        \"context\": itemgetter(\"question\") | retriever,\n",
    "        \"question\": itemgetter(\"question\"),\n",
    "        \"chat_history\": itemgetter(\"chat_history\"),\n",
    "    }\n",
    "    | prompt\n",
    "    | llm\n",
    "    | StrOutputParser()\n",
    ")\n"
   ],
   "id": "5e00d8a911d6d08",
   "outputs": [],
   "execution_count": 15
  },
  {
   "metadata": {
    "ExecuteTime": {
     "end_time": "2025-02-17T02:43:37.429544Z",
     "start_time": "2025-02-17T02:43:35.693965Z"
    }
   },
   "cell_type": "code",
   "source": [
    "# 세션 기록을 저장할 딕셔너리\n",
    "store = {}\n",
    "\n",
    "\n",
    "# 세션 ID를 기반으로 세션 기록을 가져오는 함수\n",
    "def get_session_history(session_ids):\n",
    "    print(f\"[대화 세션ID]: {session_ids}\")\n",
    "    if session_ids not in store:  # 세션 ID가 store에 없는 경우\n",
    "        # 새로운 ChatMessageHistory 객체를 생성하여 store에 저장\n",
    "        store[session_ids] = ChatMessageHistory()\n",
    "    return store[session_ids]  # 해당 세션 ID에 대한 세션 기록 반환\n",
    "\n",
    "chain_with_history = RunnableWithMessageHistory(\n",
    "    chain,\n",
    "    get_session_history,  # 세션 기록을 가져오는 함수\n",
    "    input_messages_key=\"question\",  # 사용자의 질문이 템플릿 변수에 들어갈 key\n",
    "    history_messages_key=\"chat_history\",  # 기록 메시지의 키\n",
    ")\n",
    "\n",
    "chain_with_history.invoke(\n",
    "    # 질문 입력\n",
    "    {\"question\": \"이 채널에서 판매되는 마약의 지역을 말해줘.\"},\n",
    "    # 세션 ID 기준으로 대화를 기록합니다.\n",
    "    config={\"configurable\": {\"session_id\": \"abc123\"}},\n",
    ")"
   ],
   "id": "b4ac556acb49ef20",
   "outputs": [
    {
     "name": "stdout",
     "output_type": "stream",
     "text": [
      "[대화 세션ID]: abc123\n"
     ]
    },
    {
     "data": {
      "text/plain": [
       "'이 채널에서는 부산, 창원, 울산, 서울, 광주, 천안을 포함한 수도권 지역에서 마약이 판매되는 것으로 보입니다.'"
      ]
     },
     "execution_count": 5,
     "metadata": {},
     "output_type": "execute_result"
    }
   ],
   "execution_count": 5
  },
  {
   "metadata": {
    "ExecuteTime": {
     "end_time": "2025-02-17T02:43:39.362547Z",
     "start_time": "2025-02-17T02:43:37.507368Z"
    }
   },
   "cell_type": "code",
   "source": [
    "chain_with_history.invoke(\n",
    "    # 질문 입력\n",
    "    {\"question\": \"내가 이전에 물어본 내용과 그 답변이 뭐였지?\", \"context\": retriever},\n",
    "    # 세션 ID 기준으로 대화를 기록합니다.\n",
    "    config={\"configurable\": {\"session_id\": \"abc123\"}},\n",
    ")"
   ],
   "id": "c70bef872c08ea2a",
   "outputs": [
    {
     "name": "stdout",
     "output_type": "stream",
     "text": [
      "[대화 세션ID]: abc123\n"
     ]
    },
    {
     "data": {
      "text/plain": [
       "'당신이 이전에 물어본 내용은 \"이 채널에서 판매되는 마약의 지역을 말해줘.\"였으며, 그에 대한 답변은 \"이 채널에서는 부산, 창원, 울산, 서울, 광주, 천안을 포함한 수도권 지역에서 마약이 판매되는 것으로 보입니다.\"였습니다.'"
      ]
     },
     "execution_count": 6,
     "metadata": {},
     "output_type": "execute_result"
    }
   ],
   "execution_count": 6
  },
  {
   "metadata": {
    "ExecuteTime": {
     "end_time": "2025-02-17T02:57:00.980093Z",
     "start_time": "2025-02-17T02:57:00.964755Z"
    }
   },
   "cell_type": "code",
   "source": "# TODO: https://wikidocs.net/233813 를 참고해서 SQLite에 대화내역 오프라인 저장하고 불러오기",
   "id": "315fdf336a67cdea",
   "outputs": [],
   "execution_count": 16
  },
  {
   "metadata": {
    "ExecuteTime": {
     "end_time": "2025-02-17T02:57:00.996097Z",
     "start_time": "2025-02-17T02:57:00.983085Z"
    }
   },
   "cell_type": "code",
   "source": [
    "from langchain_community.chat_message_histories import SQLChatMessageHistory\n",
    "\n",
    "# SQLChatMessageHistory 객체를 생성하고 세션 ID와 데이터베이스 연결 파일을 설정\n",
    "chat_message_history = SQLChatMessageHistory(\n",
    "    session_id=\"sql_history\", connection=\"sqlite:///sqlite.db\"\n",
    ")\n"
   ],
   "id": "bd50fe5d265a0e08",
   "outputs": [],
   "execution_count": 17
  },
  {
   "metadata": {
    "ExecuteTime": {
     "end_time": "2025-02-17T02:57:01.043177Z",
     "start_time": "2025-02-17T02:57:01.012717Z"
    }
   },
   "cell_type": "code",
   "source": [
    "# 사용자 메시지를 추가합니다.\n",
    "chat_message_history.add_user_message(\n",
    "    \"안녕? 만나서 반가워. 내 이름은 테디야. 나는 랭체인 개발자야. 앞으로 잘 부탁해!\"\n",
    ")\n",
    "# AI 메시지를 추가합니다.\n",
    "chat_message_history.add_ai_message(\"안녕 테디, 만나서 반가워. 나도 잘 부탁해!\")\n"
   ],
   "id": "6c1267554a0fa773",
   "outputs": [],
   "execution_count": 18
  },
  {
   "metadata": {
    "ExecuteTime": {
     "end_time": "2025-02-17T02:57:01.074819Z",
     "start_time": "2025-02-17T02:57:01.059796Z"
    }
   },
   "cell_type": "code",
   "source": [
    "# 채팅 메시지 기록의 메시지들\n",
    "chat_message_history.messages"
   ],
   "id": "6ae33a2b5061e119",
   "outputs": [
    {
     "data": {
      "text/plain": [
       "[HumanMessage(content='안녕? 만나서 반가워. 내 이름은 테디야. 나는 랭체인 개발자야. 앞으로 잘 부탁해!', additional_kwargs={}, response_metadata={}),\n",
       " AIMessage(content='안녕 테디, 만나서 반가워. 나도 잘 부탁해!', additional_kwargs={}, response_metadata={}),\n",
       " HumanMessage(content='안녕? 만나서 반가워. 내 이름은 테디야. 나는 랭체인 개발자야. 앞으로 잘 부탁해!', additional_kwargs={}, response_metadata={}),\n",
       " AIMessage(content='안녕 테디, 만나서 반가워. 나도 잘 부탁해!', additional_kwargs={}, response_metadata={})]"
      ]
     },
     "execution_count": 19,
     "metadata": {},
     "output_type": "execute_result"
    }
   ],
   "execution_count": 19
  },
  {
   "metadata": {
    "ExecuteTime": {
     "end_time": "2025-02-17T02:57:21.456707Z",
     "start_time": "2025-02-17T02:57:21.443021Z"
    }
   },
   "cell_type": "code",
   "source": [
    "def get_chat_history(user_id, conversation_id):\n",
    "    return SQLChatMessageHistory(\n",
    "        table_name=user_id,\n",
    "        session_id=conversation_id,\n",
    "        connection=\"sqlite:///sqlite.db\",\n",
    "    )\n",
    "\n",
    "from langchain_core.runnables.utils import ConfigurableFieldSpec\n",
    "\n",
    "config_fields = [\n",
    "    ConfigurableFieldSpec(\n",
    "        id=\"user_id\",\n",
    "        annotation=str,\n",
    "        name=\"User ID\",\n",
    "        description=\"Unique identifier for a user.\",\n",
    "        default=\"\",\n",
    "        is_shared=True,\n",
    "    ),\n",
    "    ConfigurableFieldSpec(\n",
    "        id=\"conversation_id\",\n",
    "        annotation=str,\n",
    "        name=\"Conversation ID\",\n",
    "        description=\"Unique identifier for a conversation.\",\n",
    "        default=\"\",\n",
    "        is_shared=True,\n",
    "    ),\n",
    "]\n",
    "\n",
    "chain_with_history = RunnableWithMessageHistory(\n",
    "    chain,\n",
    "    get_chat_history,  # 대화 기록을 가져오는 함수를 설정합니다.\n",
    "    input_messages_key=\"question\",  # 입력 메시지의 키를 \"question\"으로 설정\n",
    "    history_messages_key=\"chat_history\",  # 대화 기록 메시지의 키를 \"history\"로 설정\n",
    "    history_factory_config=config_fields,  # 대화 기록 조회시 참고할 파라미터를 설정합니다.\n",
    ")\n",
    "\n",
    "# config 설정\n",
    "config = {\"configurable\": {\"user_id\": \"user1\", \"conversation_id\": \"conversation1\"}}\n"
   ],
   "id": "5f9e535f781a33bc",
   "outputs": [],
   "execution_count": 23
  },
  {
   "metadata": {
    "ExecuteTime": {
     "end_time": "2025-02-17T02:57:02.889184Z",
     "start_time": "2025-02-17T02:57:01.169736Z"
    }
   },
   "cell_type": "code",
   "source": [
    "# 질문과 config 를 전달하여 실행합니다.\n",
    "chain_with_history.invoke({\"question\": \"안녕 반가워, 내 이름은 테디야\"}, config)"
   ],
   "id": "a3927568c5d26068",
   "outputs": [
    {
     "data": {
      "text/plain": [
       "'죄송합니다만, 제공된 채팅 데이터 및 이전 대화 기록으로는 해당 텔레그램 채널의 거래 세부 사항, 약물의 종류, 가격 등 구체적인 정보를 확인할 수 없습니다. 추가적인 구체적인 데이터나 증거가 필요할 것 같습니다.'"
      ]
     },
     "execution_count": 21,
     "metadata": {},
     "output_type": "execute_result"
    }
   ],
   "execution_count": 21
  },
  {
   "metadata": {
    "ExecuteTime": {
     "end_time": "2025-02-17T02:57:04.419215Z",
     "start_time": "2025-02-17T02:57:02.905483Z"
    }
   },
   "cell_type": "code",
   "source": [
    "# 후속 질문을 실해합니다.\n",
    "chain_with_history.invoke({\"question\": \"내 이름이 뭐라고?\"}, config)\n"
   ],
   "id": "88095b2abfea4c5",
   "outputs": [
    {
     "data": {
      "text/plain": [
       "'제공된 채팅 데이터에서는 귀하의 이름을 알 수 있는 정보가 없습니다.'"
      ]
     },
     "execution_count": 22,
     "metadata": {},
     "output_type": "execute_result"
    }
   ],
   "execution_count": 22
  }
 ],
 "metadata": {
  "kernelspec": {
   "display_name": "Python 3",
   "language": "python",
   "name": "python3"
  },
  "language_info": {
   "codemirror_mode": {
    "name": "ipython",
    "version": 2
   },
   "file_extension": ".py",
   "mimetype": "text/x-python",
   "name": "python",
   "nbconvert_exporter": "python",
   "pygments_lexer": "ipython2",
   "version": "2.7.6"
  }
 },
 "nbformat": 4,
 "nbformat_minor": 5
}

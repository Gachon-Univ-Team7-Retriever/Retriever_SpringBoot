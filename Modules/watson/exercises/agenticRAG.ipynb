{
 "cells": [
  {
   "cell_type": "code",
   "id": "initial_id",
   "metadata": {
    "collapsed": true,
    "ExecuteTime": {
     "end_time": "2025-02-16T08:47:49.676559Z",
     "start_time": "2025-02-16T08:47:49.656462Z"
    }
   },
   "source": [
    "# 참고: https://wikidocs.net/262586, https://wikidocs.net/262595\n",
    "# API 키를 환경변수로 관리하기 위한 설정 파일\n",
    "from dotenv import load_dotenv\n",
    "\n",
    "# API 키 정보 로드\n",
    "load_dotenv(override=True)"
   ],
   "outputs": [
    {
     "data": {
      "text/plain": [
       "True"
      ]
     },
     "execution_count": 4,
     "metadata": {},
     "output_type": "execute_result"
    }
   ],
   "execution_count": 4
  },
  {
   "metadata": {
    "ExecuteTime": {
     "end_time": "2025-02-16T08:45:15.245950Z",
     "start_time": "2025-02-16T08:45:15.221977Z"
    }
   },
   "cell_type": "code",
   "source": [
    "# LangSmith 추적을 설정합니다. https://smith.langchain.com\n",
    "# !pip install -qU langchain-teddynote\n",
    "from langchain_teddynote import logging\n",
    "\n",
    "# 프로젝트 이름을 입력합니다.\n",
    "logging.langsmith(\"CH15-Agents\")"
   ],
   "id": "b5e8dd996d13decd",
   "outputs": [
    {
     "name": "stdout",
     "output_type": "stream",
     "text": [
      "LangSmith 추적을 시작합니다.\n",
      "[프로젝트명]\n",
      "CH15-Agents\n"
     ]
    }
   ],
   "execution_count": 2
  },
  {
   "metadata": {
    "ExecuteTime": {
     "end_time": "2025-02-16T09:10:03.305272Z",
     "start_time": "2025-02-16T09:10:03.209823Z"
    }
   },
   "cell_type": "code",
   "source": [
    "from langchain.tools import tool\n",
    "from typing import List, Dict, Annotated\n",
    "from langchain_teddynote.tools import GoogleNews\n",
    "from langchain_experimental.utilities import PythonREPL\n",
    "\n",
    "\n",
    "# 도구 생성\n",
    "@tool\n",
    "def search_news(query: str) -> List[Dict[str, str]]:\n",
    "    \"\"\"Search Google News by input keyword\"\"\"\n",
    "    news_tool = GoogleNews()\n",
    "    return news_tool.search_by_keyword(query, k=5)\n",
    "\n",
    "\n",
    "# 도구 생성\n",
    "@tool\n",
    "def python_repl_tool(\n",
    "    code: Annotated[str, \"The python code to execute to generate your chart.\"],\n",
    "):\n",
    "    \"\"\"Use this to execute python code. If you want to see the output of a value,\n",
    "    you should print it out with `print(...)`. This is visible to the user.\"\"\"\n",
    "    result = \"\"\n",
    "    try:\n",
    "        result = PythonREPL().run(code)\n",
    "    except BaseException as e:\n",
    "        print(f\"Failed to execute. Error: {repr(e)}\")\n",
    "    finally:\n",
    "        return result\n",
    "\n",
    "\n",
    "print(f\"도구 이름: {search_news.name}\")\n",
    "print(f\"도구 설명: {search_news.description}\")\n",
    "print(f\"도구 이름: {python_repl_tool.name}\")\n",
    "print(f\"도구 설명: {python_repl_tool.description}\")\n"
   ],
   "id": "c22209fd2c99e016",
   "outputs": [
    {
     "name": "stdout",
     "output_type": "stream",
     "text": [
      "도구 이름: search_news\n",
      "도구 설명: Search Google News by input keyword\n",
      "도구 이름: python_repl_tool\n",
      "도구 설명: Use this to execute python code. If you want to see the output of a value,\n",
      "    you should print it out with `print(...)`. This is visible to the user.\n"
     ]
    }
   ],
   "execution_count": 15
  },
  {
   "metadata": {
    "ExecuteTime": {
     "end_time": "2025-02-16T09:10:36.692738Z",
     "start_time": "2025-02-16T09:10:36.681930Z"
    }
   },
   "cell_type": "code",
   "source": [
    "# tools 정의\n",
    "tools = [search_news, python_repl_tool]"
   ],
   "id": "75820c3a6cd051b4",
   "outputs": [],
   "execution_count": 16
  },
  {
   "metadata": {
    "ExecuteTime": {
     "end_time": "2025-02-16T09:11:40.455329Z",
     "start_time": "2025-02-16T09:11:40.442288Z"
    }
   },
   "cell_type": "code",
   "source": [
    "from langchain_core.prompts import ChatPromptTemplate\n",
    "\n",
    "# 프롬프트 생성\n",
    "# 프롬프트는 에이전트에게 모델이 수행할 작업을 설명하는 텍스트를 제공합니다. (도구의 이름과 역할을 입력)\n",
    "prompt = ChatPromptTemplate.from_messages(\n",
    "    [\n",
    "        (\n",
    "            \"system\",\n",
    "            \"You are a helpful assistant. \"\n",
    "            \"Make sure to use the `search_news` tool for searching keyword related news.\",\n",
    "        ),\n",
    "        (\"placeholder\", \"{chat_history}\"),\n",
    "        (\"human\", \"{input}\"),\n",
    "        (\"placeholder\", \"{agent_scratchpad}\"),\n",
    "    ]\n",
    ")\n"
   ],
   "id": "91b90923277070eb",
   "outputs": [],
   "execution_count": 18
  },
  {
   "metadata": {
    "ExecuteTime": {
     "end_time": "2025-02-16T09:12:06.451570Z",
     "start_time": "2025-02-16T09:12:06.422664Z"
    }
   },
   "cell_type": "code",
   "source": [
    "from langchain_openai import ChatOpenAI\n",
    "from langchain.agents import create_tool_calling_agent\n",
    "\n",
    "# LLM 정의\n",
    "llm = ChatOpenAI(model=\"gpt-4o-mini\", temperature=0)\n",
    "\n",
    "# Agent 생성\n",
    "agent = create_tool_calling_agent(llm, tools, prompt)"
   ],
   "id": "7ff5ab17a37566b0",
   "outputs": [],
   "execution_count": 19
  },
  {
   "metadata": {
    "ExecuteTime": {
     "end_time": "2025-02-16T09:15:56.730448Z",
     "start_time": "2025-02-16T09:15:40.182984Z"
    }
   },
   "cell_type": "code",
   "source": [
    "from langchain.agents import AgentExecutor\n",
    "\n",
    "# AgentExecutor 생성\n",
    "agent_executor = AgentExecutor(\n",
    "    agent=agent,\n",
    "    tools=tools,\n",
    "    verbose=True,\n",
    "    max_iterations=10,\n",
    "    max_execution_time=10,\n",
    "    handle_parsing_errors=True,\n",
    ")\n",
    "\n",
    "# AgentExecutor 실행\n",
    "result = agent_executor.invoke({\"input\": \"AI 투자와 관련된 뉴스를 검색해 주세요.\"})\n",
    "\n",
    "print(\"Agent 실행 결과:\")\n",
    "print(result[\"output\"])\n"
   ],
   "id": "7fe67b211b01a160",
   "outputs": [
    {
     "name": "stdout",
     "output_type": "stream",
     "text": [
      "\n",
      "\n",
      "\u001B[1m> Entering new AgentExecutor chain...\u001B[0m\n",
      "\u001B[32;1m\u001B[1;3m\n",
      "Invoking: `search_news` with `{'query': 'AI 투자'}`\n",
      "\n",
      "\n",
      "\u001B[0m\u001B[36;1m\u001B[1;3m[{'url': 'https://news.google.com/rss/articles/CBMiX0FVX3lxTE5BM01hbENVMXVydWowNlFXNld1alN6bjNjaFZLOG9mcms5cnRlbjlPUTNyWEFKdFNPMGRWS3FUclBRelJ5V3ZVbzVZbF9xZVV6bzJaZGZ6V2JhanU5emlF?oc=5', 'content': \"퓨리오사AI 투자 네이버…메타와 AI칩 매개 '공동전선' 길 열리나 - 뉴스1\"}, {'url': 'https://news.google.com/rss/articles/CBMiVkFVX3lxTE1FNUdRT1BGTVBtb0MtSTlydmw2T2NqZ1lQWWpKOV9JRGtuUWNEdVNSV1d4eHpYVjdET2hOYW5XbzdSekhCMl9ELUFXTHlQSDRrenJjbzVn?oc=5', 'content': '美 빅테크, 아시아·중동에 AI 투자 확대…인재·인프라 늘려 - ZD넷 코리아'}, {'url': 'https://news.google.com/rss/articles/CBMiUkFVX3lxTE5ZeHIzX19DUVJQZl80SUdwZTVVUTRWc2cwNUVKbXVnSTRjWmp1WTVGVWhEV216MmlsNnh2dHhHY2FpNXJYQmVlNE1FcHRXLXhQZ0E?oc=5', 'content': '글로벌 전문가가 한국 주식 접은 이유는 ··· “AI·코인도 거품” - 매일경제'}, {'url': 'https://news.google.com/rss/articles/CBMigAFBVV95cUxPOUJuUmgtOVN3TW5UdFVSVWFYZkNqSzRUbENZb1ZWNkdFOHdxdzh4bXZyYjNlTm13dzJtWkJlVWlST2duNDFMRm5GOEVyNW9xYlNSdFlqcGRFTnc0Y1RPelhrQUh6aU40QW1uWkRNUTg3dDk2ZHF6V29qRTlOMkRmVw?oc=5', 'content': '韓 증시 상장에서 경영권 매각으로…퓨리오사AI가 ‘변심’한 이유 - 이데일리'}, {'url': 'https://news.google.com/rss/articles/CBMicEFVX3lxTE1URmtseUtxcExleEcxYXpJRUZ6N05jbkJvRUhlWkVaVmxXNVlfbXhKWVFwVkg4dmVZX2VXZExnQVJVNDZOOFRKRWRyVUxVUk9EX3gtXzE4Q0R2SUJxOHF2ejN6cjh1TDcyVjhReWotVzHSAXRBVV95cUxQODZiTmFRSlFFZzBkYzljeUo3MVF0cXZQV2pwM3hENm1OZUpaOVUyeGMtczAzZU95X19fNjJ5SkdRN3l1TFBGeG9uUl9mZS1VcXMwU2NJaXpzWWRFSjhpcEM3bTNNWFk3aGFmclJlbHRreUFNMA?oc=5', 'content': '빅테크 기업들, AI 투자 확대에도 인프라 부족 우려 - IT조선'}]\u001B[0m\u001B[32;1m\u001B[1;3m다음은 AI 투자와 관련된 최근 뉴스 기사들입니다:\n",
      "\n",
      "1. [퓨리오사AI 투자 네이버…메타와 AI칩 매개 '공동전선' 길 열리나 - 뉴스1](https://news.google.com/rss/articles/CBMiX0FVX3lxTE5BM01hbENVMXVydWowNlFXNld1alN6bjNjaFZLOG9mcms5cnRlbjlPUTNyWEFKdFNPMGRWS3FUclBRelJ5V3ZVbzVZbF9xZVV6bzJaZGZ6V2JhanU5emlF?oc=5)\n",
      "\n",
      "2. [美 빅테크, 아시아·중동에 AI 투자 확대…인재·인프라 늘려 - ZD넷 코리아](https://news.google.com/rss/articles/CBMiVkFVX3lxTE1FNUdRT1BGTVBtb0MtSTlydmw2T2NqZ1lQWWpKOV9JRGtuUWNEdVNSV1d4eHpYVjdET2hOYW5XbzdSekhCMl9ELUFXTHlQSDRrenJjbzVn?oc=5)\n",
      "\n",
      "3. [글로벌 전문가가 한국 주식 접은 이유는 ··· “AI·코인도 거품” - 매일경제](https://news.google.com/rss/articles/CBMiUkFVX3lxTE5ZeHIzX19DUVJQZl80SUdwZTVVUTRWc2cwNUVKbXVnSTRjWmp1WTVGVWhEV216MmlsNnh2dHhHY2FpNXJYQmVlNE1FcHRXLXhQZ0E?oc=5)\n",
      "\n",
      "4. [韓 증시 상장에서 경영권 매각으로…퓨리오사AI가 ‘변심’한 이유 - 이데일리](https://news.google.com/rss/articles/CBMigAFBVV95cUxPOUJuUmgtOVN3TW5UdFVSVWFYZkNqSzRUbENZb1ZWNkdFOHdxdzh4bXZyYjNlTm13dzJtWkJlVWlST2duNDFMRm5GOEVyNW9xYlNSdFlqcGRFTnc0Y1RPelhrQUh6aU40QW1uWkRNUTg3dDk2ZHF6V29qRTlOMkRmVw?oc=5)\n",
      "\n",
      "5. [빅테크 기업들, AI 투자 확대에도 인프라 부족 우려 - IT조선](https://news.google.com/rss/articles/CBMicEFVX3lxTE1URmtseUtxcExleEcxYXpJRUZ6N05jbkJvRUhlWkVaVmxXNVlfbXhKWVFwVkg4dmVZX2VXZExnQVJVNDZOOFRKRWRyVUxVUk9EX3gtXzE4Q0R2SUJxOHF2ejN6cjh1TDcyVjhReWotVzHSAXRBVV95cUxQODZiTmFRSlFFZzBkYzljeUo3MVF0cXZQV2pwM3hENm1OZUpaOVUyeGMtczAzZU95X19fNjJ5SkdRN3l1TFBGeG9uUl9mZS1VcXMwU2NJaXpzWWRFSjhpcEM3bTNNWFk3aGFmclJlbHRreUFNMA?oc=5)\n",
      "\n",
      "이 기사들을 통해 AI 투자에 대한 다양한 관점과 최근 동향을 확인할 수 있습니다.\u001B[0m\n",
      "\n",
      "\u001B[1m> Finished chain.\u001B[0m\n",
      "Agent 실행 결과:\n",
      "다음은 AI 투자와 관련된 최근 뉴스 기사들입니다:\n",
      "\n",
      "1. [퓨리오사AI 투자 네이버…메타와 AI칩 매개 '공동전선' 길 열리나 - 뉴스1](https://news.google.com/rss/articles/CBMiX0FVX3lxTE5BM01hbENVMXVydWowNlFXNld1alN6bjNjaFZLOG9mcms5cnRlbjlPUTNyWEFKdFNPMGRWS3FUclBRelJ5V3ZVbzVZbF9xZVV6bzJaZGZ6V2JhanU5emlF?oc=5)\n",
      "\n",
      "2. [美 빅테크, 아시아·중동에 AI 투자 확대…인재·인프라 늘려 - ZD넷 코리아](https://news.google.com/rss/articles/CBMiVkFVX3lxTE1FNUdRT1BGTVBtb0MtSTlydmw2T2NqZ1lQWWpKOV9JRGtuUWNEdVNSV1d4eHpYVjdET2hOYW5XbzdSekhCMl9ELUFXTHlQSDRrenJjbzVn?oc=5)\n",
      "\n",
      "3. [글로벌 전문가가 한국 주식 접은 이유는 ··· “AI·코인도 거품” - 매일경제](https://news.google.com/rss/articles/CBMiUkFVX3lxTE5ZeHIzX19DUVJQZl80SUdwZTVVUTRWc2cwNUVKbXVnSTRjWmp1WTVGVWhEV216MmlsNnh2dHhHY2FpNXJYQmVlNE1FcHRXLXhQZ0E?oc=5)\n",
      "\n",
      "4. [韓 증시 상장에서 경영권 매각으로…퓨리오사AI가 ‘변심’한 이유 - 이데일리](https://news.google.com/rss/articles/CBMigAFBVV95cUxPOUJuUmgtOVN3TW5UdFVSVWFYZkNqSzRUbENZb1ZWNkdFOHdxdzh4bXZyYjNlTm13dzJtWkJlVWlST2duNDFMRm5GOEVyNW9xYlNSdFlqcGRFTnc0Y1RPelhrQUh6aU40QW1uWkRNUTg3dDk2ZHF6V29qRTlOMkRmVw?oc=5)\n",
      "\n",
      "5. [빅테크 기업들, AI 투자 확대에도 인프라 부족 우려 - IT조선](https://news.google.com/rss/articles/CBMicEFVX3lxTE1URmtseUtxcExleEcxYXpJRUZ6N05jbkJvRUhlWkVaVmxXNVlfbXhKWVFwVkg4dmVZX2VXZExnQVJVNDZOOFRKRWRyVUxVUk9EX3gtXzE4Q0R2SUJxOHF2ejN6cjh1TDcyVjhReWotVzHSAXRBVV95cUxQODZiTmFRSlFFZzBkYzljeUo3MVF0cXZQV2pwM3hENm1OZUpaOVUyeGMtczAzZU95X19fNjJ5SkdRN3l1TFBGeG9uUl9mZS1VcXMwU2NJaXpzWWRFSjhpcEM3bTNNWFk3aGFmclJlbHRreUFNMA?oc=5)\n",
      "\n",
      "이 기사들을 통해 AI 투자에 대한 다양한 관점과 최근 동향을 확인할 수 있습니다.\n"
     ]
    }
   ],
   "execution_count": 20
  },
  {
   "metadata": {
    "ExecuteTime": {
     "end_time": "2025-02-16T09:27:28.191329Z",
     "start_time": "2025-02-16T09:27:28.080286Z"
    }
   },
   "cell_type": "code",
   "source": [
    "from langchain_teddynote.messages import AgentStreamParser\n",
    "\n",
    "agent_stream_parser = AgentStreamParser()"
   ],
   "id": "cccc042075fa3cf",
   "outputs": [],
   "execution_count": 21
  },
  {
   "metadata": {
    "ExecuteTime": {
     "end_time": "2025-02-16T09:27:49.261721Z",
     "start_time": "2025-02-16T09:27:41.851394Z"
    }
   },
   "cell_type": "code",
   "source": [
    "# 질의에 대한 답변을 스트리밍으로 출력 요청\n",
    "result = agent_executor.stream(\n",
    "    {\"input\": \"matplotlib 을 사용하여 pie 차트를 그리는 코드를 작성하고 실행하세요.\"}\n",
    ")\n",
    "\n",
    "for step in result:\n",
    "    # 중간 단계를 parser 를 사용하여 단계별로 출력\n",
    "    agent_stream_parser.process_agent_steps(step)"
   ],
   "id": "3ee9d7389af96a66",
   "outputs": [
    {
     "name": "stdout",
     "output_type": "stream",
     "text": [
      "\n",
      "\n",
      "\u001B[1m> Entering new None chain...\u001B[0m\n"
     ]
    },
    {
     "name": "stderr",
     "output_type": "stream",
     "text": [
      "Python REPL can execute arbitrary code. Use with caution.\n"
     ]
    },
    {
     "name": "stdout",
     "output_type": "stream",
     "text": [
      "[도구 호출]\n",
      "Tool: python_repl_tool\n",
      "code: import matplotlib.pyplot as plt\n",
      "\n",
      "# 데이터\n",
      "sizes = [15, 30, 45, 10]\n",
      "labels = ['A', 'B', 'C', 'D']\n",
      "colors = ['gold', 'lightcoral', 'lightskyblue', 'yellowgreen']\n",
      "\n",
      "# 파이 차트 그리기\n",
      "plt.figure(figsize=(8, 6))\n",
      "plt.pie(sizes, labels=labels, colors=colors, autopct='%1.1f%%', startangle=140)\n",
      "plt.axis('equal')  # Equal aspect ratio ensures that pie is drawn as a circle.\n",
      "plt.title('Sample Pie Chart')\n",
      "\n",
      "# 차트 보여주기\n",
      "plt.show()\n",
      "Log: \n",
      "Invoking: `python_repl_tool` with `{'code': \"import matplotlib.pyplot as plt\\n\\n# 데이터\\nsizes = [15, 30, 45, 10]\\nlabels = ['A', 'B', 'C', 'D']\\ncolors = ['gold', 'lightcoral', 'lightskyblue', 'yellowgreen']\\n\\n# 파이 차트 그리기\\nplt.figure(figsize=(8, 6))\\nplt.pie(sizes, labels=labels, colors=colors, autopct='%1.1f%%', startangle=140)\\nplt.axis('equal')  # Equal aspect ratio ensures that pie is drawn as a circle.\\nplt.title('Sample Pie Chart')\\n\\n# 차트 보여주기\\nplt.show()\"}`\n",
      "\n",
      "\n",
      "\n",
      "\u001B[32;1m\u001B[1;3m\n",
      "Invoking: `python_repl_tool` with `{'code': \"import matplotlib.pyplot as plt\\n\\n# 데이터\\nsizes = [15, 30, 45, 10]\\nlabels = ['A', 'B', 'C', 'D']\\ncolors = ['gold', 'lightcoral', 'lightskyblue', 'yellowgreen']\\n\\n# 파이 차트 그리기\\nplt.figure(figsize=(8, 6))\\nplt.pie(sizes, labels=labels, colors=colors, autopct='%1.1f%%', startangle=140)\\nplt.axis('equal')  # Equal aspect ratio ensures that pie is drawn as a circle.\\nplt.title('Sample Pie Chart')\\n\\n# 차트 보여주기\\nplt.show()\"}`\n",
      "\n",
      "\n",
      "\u001B[0m"
     ]
    },
    {
     "data": {
      "text/plain": [
       "<Figure size 800x600 with 1 Axes>"
      ],
      "image/png": "[encoded data removed]"
     },
     "metadata": {},
     "output_type": "display_data"
    },
    {
     "name": "stdout",
     "output_type": "stream",
     "text": [
      "\u001B[33;1m\u001B[1;3m\u001B[0m[관찰 내용]\n",
      "Observation: \n",
      "\u001B[32;1m\u001B[1;3m파이 차트가 성공적으로 그려졌습니다. 차트에는 A, B, C, D의 네 가지 카테고리가 포함되어 있으며, 각 카테고리의 비율이 표시되어 있습니다. 차트의 제목은 \"Sample Pie Chart\"입니다. \n",
      "\n",
      "추가적으로 다른 차트를 그리거나 다른 데이터로 작업하고 싶으신가요?\u001B[0m\n",
      "\n",
      "\u001B[1m> Finished chain.\u001B[0m\n",
      "[최종 답변]\n",
      "파이 차트가 성공적으로 그려졌습니다. 차트에는 A, B, C, D의 네 가지 카테고리가 포함되어 있으며, 각 카테고리의 비율이 표시되어 있습니다. 차트의 제목은 \"Sample Pie Chart\"입니다. \n",
      "\n",
      "추가적으로 다른 차트를 그리거나 다른 데이터로 작업하고 싶으신가요?\n"
     ]
    }
   ],
   "execution_count": 22
  }
 ],
 "metadata": {
  "kernelspec": {
   "display_name": "Python 3",
   "language": "python",
   "name": "python3"
  },
  "language_info": {
   "codemirror_mode": {
    "name": "ipython",
    "version": 2
   },
   "file_extension": ".py",
   "mimetype": "text/x-python",
   "name": "python",
   "nbconvert_exporter": "python",
   "pygments_lexer": "ipython2",
   "version": "2.7.6"
  }
 },
 "nbformat": 4,
 "nbformat_minor": 5
}

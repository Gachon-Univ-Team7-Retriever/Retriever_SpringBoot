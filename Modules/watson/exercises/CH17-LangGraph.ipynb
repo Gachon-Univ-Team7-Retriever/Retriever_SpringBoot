{
 "cells": [
  {
   "cell_type": "code",
   "id": "initial_id",
   "metadata": {
    "collapsed": true,
    "ExecuteTime": {
     "end_time": "2025-02-17T07:41:14.386967Z",
     "start_time": "2025-02-17T07:41:14.365467Z"
    }
   },
   "source": [
    "from dotenv import load_dotenv\n",
    "\n",
    "load_dotenv()"
   ],
   "outputs": [
    {
     "data": {
      "text/plain": [
       "True"
      ]
     },
     "execution_count": 7,
     "metadata": {},
     "output_type": "execute_result"
    }
   ],
   "execution_count": 7
  },
  {
   "metadata": {
    "ExecuteTime": {
     "end_time": "2025-02-17T07:41:14.403033Z",
     "start_time": "2025-02-17T07:41:14.394526Z"
    }
   },
   "cell_type": "code",
   "source": [
    "# LangSmith 추적을 설정합니다. https://smith.langchain.com\n",
    "# !pip install -qU langchain-teddynote\n",
    "from langchain_teddynote import logging\n",
    "\n",
    "# 프로젝트 이름을 입력합니다.\n",
    "logging.langsmith(\"CH17-LangGraph\")"
   ],
   "id": "ee942063a775e361",
   "outputs": [
    {
     "name": "stdout",
     "output_type": "stream",
     "text": [
      "LangSmith 추적을 시작합니다.\n",
      "[프로젝트명]\n",
      "CH17-LangGraph\n"
     ]
    }
   ],
   "execution_count": 8
  },
  {
   "metadata": {
    "ExecuteTime": {
     "end_time": "2025-02-17T07:41:14.434054Z",
     "start_time": "2025-02-17T07:41:14.419566Z"
    }
   },
   "cell_type": "code",
   "source": [
    "from typing import Annotated, TypedDict\n",
    "from langgraph.graph import StateGraph, START, END\n",
    "from langgraph.graph.message import add_messages\n",
    "\n",
    "class State(TypedDict):\n",
    "    # 메시지 정의(list type이며 add_messages 함수를 사용하여 메시지를 추가)\n",
    "    messages: Annotated[list, add_messages]"
   ],
   "id": "e5db770a0096f07a",
   "outputs": [],
   "execution_count": 9
  },
  {
   "metadata": {
    "ExecuteTime": {
     "end_time": "2025-02-17T07:41:14.480167Z",
     "start_time": "2025-02-17T07:41:14.450070Z"
    }
   },
   "cell_type": "code",
   "source": [
    "from langchain_openai import ChatOpenAI\n",
    "\n",
    "# LLM 정의\n",
    "llm = ChatOpenAI(model=\"gpt-4o-mini\", temperature=0)\n",
    "\n",
    "# 챗봇 함수 정의\n",
    "def chatbot(state: State):\n",
    "    # 메시지 호출 및 반환\n",
    "    return {\"messages\": llm.invoke(state[\"messages\"])}"
   ],
   "id": "9c6cdb0d6e945169",
   "outputs": [],
   "execution_count": 10
  },
  {
   "metadata": {
    "ExecuteTime": {
     "end_time": "2025-02-17T07:41:14.511166Z",
     "start_time": "2025-02-17T07:41:14.497205Z"
    }
   },
   "cell_type": "code",
   "source": [
    "# 그래프 생성\n",
    "graph_builder = StateGraph(State)\n",
    "\n",
    "# 노드 이름, 함수 혹은 callable 객체를 인자로 받아 노드를 추가\n",
    "graph_builder.add_node(\"chatbot\", chatbot)"
   ],
   "id": "5c5ef8302e61d2ed",
   "outputs": [
    {
     "data": {
      "text/plain": [
       "<langgraph.graph.state.StateGraph at 0x22c8793e290>"
      ]
     },
     "execution_count": 11,
     "metadata": {},
     "output_type": "execute_result"
    }
   ],
   "execution_count": 11
  },
  {
   "metadata": {
    "ExecuteTime": {
     "end_time": "2025-02-17T07:41:14.573041Z",
     "start_time": "2025-02-17T07:41:14.565533Z"
    }
   },
   "cell_type": "code",
   "source": [
    "# 시작 노드에서 챗봇 노드로의 엣지 추가\n",
    "graph_builder.add_edge(START, \"chatbot\")\n",
    "# 그래프에 엣지 추가\n",
    "graph_builder.add_edge(\"chatbot\", END)"
   ],
   "id": "8b04d5a8e6e52550",
   "outputs": [
    {
     "data": {
      "text/plain": [
       "<langgraph.graph.state.StateGraph at 0x22c8793e290>"
      ]
     },
     "execution_count": 12,
     "metadata": {},
     "output_type": "execute_result"
    }
   ],
   "execution_count": 12
  },
  {
   "metadata": {
    "ExecuteTime": {
     "end_time": "2025-02-17T07:41:47.867853Z",
     "start_time": "2025-02-17T07:41:47.852166Z"
    }
   },
   "cell_type": "code",
   "source": [
    "# 그래프 컴파일\n",
    "graph = graph_builder.compile()"
   ],
   "id": "4bd4e8efdfb205cb",
   "outputs": [],
   "execution_count": 13
  },
  {
   "metadata": {
    "ExecuteTime": {
     "end_time": "2025-02-17T07:42:14.067382Z",
     "start_time": "2025-02-17T07:42:12.362733Z"
    }
   },
   "cell_type": "code",
   "source": [
    "from langchain_teddynote.graphs import visualize_graph\n",
    "\n",
    "# 그래프 시각화\n",
    "visualize_graph(graph)"
   ],
   "id": "40086326f09c7984",
   "outputs": [
    {
     "data": {
      "image/png": "[encoded data removed]",
      "text/plain": [
       "<IPython.core.display.Image object>"
      ]
     },
     "metadata": {},
     "output_type": "display_data"
    }
   ],
   "execution_count": 14
  },
  {
   "metadata": {
    "ExecuteTime": {
     "end_time": "2025-02-17T07:46:01.091175Z",
     "start_time": "2025-02-17T07:45:53.974995Z"
    }
   },
   "cell_type": "code",
   "source": [
    "question = \"서울의 유명한 맛집 TOP 10 추천해줘\"\n",
    "\n",
    "# 그래프 이벤트 스트리밍\n",
    "for event in graph.stream({\"messages\": [(\"user\", question)]}):\n",
    "    # 이벤트 값 출력\n",
    "    for value in event.values():\n",
    "        print(\"Assistant:\", value[\"messages\"].content)\n"
   ],
   "id": "4745fab8c7646fa4",
   "outputs": [
    {
     "name": "stdout",
     "output_type": "stream",
     "text": [
      "Assistant: 서울에는 다양한 맛집이 많아서 선택하기가 어렵지만, 다음은 서울에서 유명한 맛집 TOP 10을 추천해 드립니다.\n",
      "\n",
      "1. **광장시장** - 전통 시장으로, 빈대떡, 마약김밥, 떡볶이 등 다양한 길거리 음식을 즐길 수 있습니다.\n",
      "\n",
      "2. **이태원 부대찌개** - 부대찌개로 유명한 이곳은 푸짐한 양과 깊은 맛으로 많은 사랑을 받고 있습니다.\n",
      "\n",
      "3. **명동교자** - 칼국수와 만두가 유명한 곳으로, 항상 많은 사람들이 줄 서서 기다리는 인기 맛집입니다.\n",
      "\n",
      "4. **삼청동 수제비** - 수제비와 전통 한식을 맛볼 수 있는 아늑한 분위기의 식당입니다.\n",
      "\n",
      "5. **한남동 소고기집** - 고급 한우를 맛볼 수 있는 곳으로, 고기 애호가들에게 추천합니다.\n",
      "\n",
      "6. **홍대 돈부리** - 일본식 덮밥 전문점으로, 다양한 종류의 돈부리를 제공합니다.\n",
      "\n",
      "7. **압구정 로데오 거리의 카페** - 다양한 디저트와 커피를 즐길 수 있는 세련된 카페들이 많습니다.\n",
      "\n",
      "8. **신사동 가로수길의 브런치 카페** - 트렌디한 브런치 메뉴를 제공하는 카페들이 많아 인기가 높습니다.\n",
      "\n",
      "9. **종로의 전통 한정식** - 전통 한정식을 맛볼 수 있는 곳으로, 다양한 반찬과 함께 정갈한 식사를 제공합니다.\n",
      "\n",
      "10. **강남의 퓨전 한식** - 현대적인 감각으로 재해석한 한식을 제공하는 레스토랑들이 많아 새로운 맛을 경험할 수 있습니다.\n",
      "\n",
      "각 맛집마다 특색이 있으니, 방문하실 때 참고하시기 바랍니다!\n"
     ]
    }
   ],
   "execution_count": 18
  }
 ],
 "metadata": {
  "kernelspec": {
   "display_name": "Python 3",
   "language": "python",
   "name": "python3"
  },
  "language_info": {
   "codemirror_mode": {
    "name": "ipython",
    "version": 2
   },
   "file_extension": ".py",
   "mimetype": "text/x-python",
   "name": "python",
   "nbconvert_exporter": "python",
   "pygments_lexer": "ipython2",
   "version": "2.7.6"
  }
 },
 "nbformat": 4,
 "nbformat_minor": 5
}
